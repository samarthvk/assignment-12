{
 "cells": [
  {
   "cell_type": "code",
   "execution_count": null,
   "id": "bfc7bbaf",
   "metadata": {},
   "outputs": [],
   "source": [
    "1. In what modes should the PdfFileReader() and PdfFileWriter() File objects will be opened?\n",
    "ans:\n",
    "    For PdfFileReader() file objects should be opened in rb -> read binary mode,\n",
    "    For PdfFileWriter() file objects should be opened in wb -> write binary mode."
   ]
  },
  {
   "cell_type": "code",
   "execution_count": null,
   "id": "a3c1692d",
   "metadata": {},
   "outputs": [],
   "source": [
    "2. From a PdfFileReader object, how do you get a Page object for page 5?\n",
    "ans:\n",
    "     we get a Page object for page 5 by,\n",
    "        getpage(5) method."
   ]
  },
  {
   "cell_type": "code",
   "execution_count": null,
   "id": "eafdafe4",
   "metadata": {},
   "outputs": [],
   "source": [
    "3. What PdfFileReader variable stores the number of pages in the PDF document?\n",
    "ans:\n",
    "    getNumPages() method of PdfFileReader class stores the no pages in a PDF documenet."
   ]
  },
  {
   "cell_type": "code",
   "execution_count": null,
   "id": "7296a396",
   "metadata": {},
   "outputs": [],
   "source": [
    "4. If a PdfFileReader object’s PDF is encrypted with the password swordfish, what must you do before you can obtain Page objects from it?\n",
    "ans:\n",
    "     load pdf [ PyPDF2.PdfFileReader(open('encrypted.pdf', 'rb')) ]\n",
    "     check weather it is encrypted [ pdf.isEncrypted ]\n",
    "     if encrypted use [ pdf.decrypt('swordfish') ]"
   ]
  },
  {
   "cell_type": "code",
   "execution_count": null,
   "id": "bd06f62d",
   "metadata": {},
   "outputs": [],
   "source": [
    "5. What methods do you use to rotate a page?\n",
    "ans:\n",
    "    For anticlockwise =  rotateCounterClockwise() \n",
    "    For clockwise     =  rotateClockwise()"
   ]
  },
  {
   "cell_type": "code",
   "execution_count": null,
   "id": "5d7501d4",
   "metadata": {},
   "outputs": [],
   "source": [
    "6. What is the difference between a Run object and a Paragraph object?\n",
    "ans:\n",
    "    run objects is a lowest level.\n",
    "    paragraph objects is a middle level."
   ]
  },
  {
   "cell_type": "code",
   "execution_count": null,
   "id": "e50249d7",
   "metadata": {},
   "outputs": [],
   "source": [
    "7. How do you obtain a list of Paragraph objects for a Document object that’s stored in a variable named doc?\n",
    "ans:\n",
    "    "
   ]
  },
  {
   "cell_type": "code",
   "execution_count": 2,
   "id": "566d607c",
   "metadata": {},
   "outputs": [
    {
     "name": "stdout",
     "output_type": "stream",
     "text": [
      "Requirement already satisfied: python-docx in c:\\users\\admin\\anaconda3\\lib\\site-packages (0.8.11)\n",
      "Requirement already satisfied: lxml>=2.3.2 in c:\\users\\admin\\anaconda3\\lib\\site-packages (from python-docx) (4.6.3)\n"
     ]
    }
   ],
   "source": [
    "!pip install python-docx"
   ]
  },
  {
   "cell_type": "code",
   "execution_count": 4,
   "id": "ebdb062f",
   "metadata": {},
   "outputs": [
    {
     "data": {
      "text/plain": [
       "13"
      ]
     },
     "execution_count": 4,
     "metadata": {},
     "output_type": "execute_result"
    }
   ],
   "source": [
    "import docx\n",
    "a = docx.Document('Assignment_12.docx')\n",
    "len(a.paragraphs)"
   ]
  },
  {
   "cell_type": "code",
   "execution_count": null,
   "id": "fdb76342",
   "metadata": {},
   "outputs": [],
   "source": [
    "8. What type of object has bold, underline, italic, strike, and outline variables?\n",
    "ans:\n",
    "    Run object has bold, underline, italic, strike, and outline variables."
   ]
  },
  {
   "cell_type": "code",
   "execution_count": null,
   "id": "60c9e431",
   "metadata": {},
   "outputs": [],
   "source": [
    "9. What is the difference between False, True, and None for the bold variable?\n",
    "ans:\n",
    "    bold = True  # means style is set to bold\n",
    "    bold = False #means Style not set to bold\n",
    "    bold = None #means style is not applicable"
   ]
  },
  {
   "cell_type": "code",
   "execution_count": null,
   "id": "246678a1",
   "metadata": {},
   "outputs": [],
   "source": [
    "10. How do you create a Document object for a new Word document?\n",
    "ans:\n",
    "    "
   ]
  },
  {
   "cell_type": "code",
   "execution_count": 5,
   "id": "bbf310d8",
   "metadata": {},
   "outputs": [],
   "source": [
    "from docx import Document\n",
    "doc = Document()\n",
    "doc.add_paragraph(\"my name is samarth v kamatagi\")\n",
    "doc.save('myname.docx')"
   ]
  },
  {
   "cell_type": "code",
   "execution_count": null,
   "id": "a94beb46",
   "metadata": {},
   "outputs": [],
   "source": [
    "11. How do you add a paragraph with the text 'Hello, there!' to a Document object stored in a variable named doc?\n",
    "ans:\n",
    "    "
   ]
  },
  {
   "cell_type": "code",
   "execution_count": 6,
   "id": "817a9312",
   "metadata": {},
   "outputs": [],
   "source": [
    "doc = docx.Document()\n",
    "doc.add_paragraph('Hello,there!')\n",
    "doc.save('doc.docx')"
   ]
  },
  {
   "cell_type": "code",
   "execution_count": null,
   "id": "5cc4997f",
   "metadata": {},
   "outputs": [],
   "source": [
    "12. What integers represent the levels of headings available in Word documents?\n",
    "ans:\n",
    "    There are a total of 5 levels\n",
    "    statring from 0 t0 4\n",
    "    the level 0 makes a headline with the horizontal line below the text,\n",
    "    the heading level 1 is the main heading,\n",
    "    the other headings are sub-heading with their font-sizes in decreasing order."
   ]
  }
 ],
 "metadata": {
  "kernelspec": {
   "display_name": "Python 3 (ipykernel)",
   "language": "python",
   "name": "python3"
  },
  "language_info": {
   "codemirror_mode": {
    "name": "ipython",
    "version": 3
   },
   "file_extension": ".py",
   "mimetype": "text/x-python",
   "name": "python",
   "nbconvert_exporter": "python",
   "pygments_lexer": "ipython3",
   "version": "3.9.7"
  }
 },
 "nbformat": 4,
 "nbformat_minor": 5
}
